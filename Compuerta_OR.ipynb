{
  "nbformat": 4,
  "nbformat_minor": 0,
  "metadata": {
    "colab": {
      "provenance": [],
      "authorship_tag": "ABX9TyPN25Im8xt1ZX8tSR0+34Oe",
      "include_colab_link": true
    },
    "kernelspec": {
      "name": "python3",
      "display_name": "Python 3"
    },
    "language_info": {
      "name": "python"
    }
  },
  "cells": [
    {
      "cell_type": "markdown",
      "metadata": {
        "id": "view-in-github",
        "colab_type": "text"
      },
      "source": [
        "<a href=\"https://colab.research.google.com/github/SantiVipe/FACN/blob/main/Compuerta_OR.ipynb\" target=\"_parent\"><img src=\"https://colab.research.google.com/assets/colab-badge.svg\" alt=\"Open In Colab\"/></a>"
      ]
    },
    {
      "cell_type": "code",
      "execution_count": 1,
      "metadata": {
        "colab": {
          "base_uri": "https://localhost:8080/"
        },
        "id": "KZ1D1oWJVUxa",
        "outputId": "7153370d-a4d7-4369-e0d3-40b4170fac69"
      },
      "outputs": [
        {
          "output_type": "stream",
          "name": "stdout",
          "text": [
            "Entradas: [0, 0] Salida: 0\n",
            "Entradas: [0, 1] Salida: 1\n",
            "Entradas: [1, 0] Salida: 1\n",
            "Entradas: [1, 1] Salida: 1\n"
          ]
        }
      ],
      "source": [
        "import numpy as np\n",
        "\n",
        "class McCullochPittsNeuron:\n",
        "  def __init__(self, weights, threshold):\n",
        "    self.weights = np.array(weights)\n",
        "    self.threshold = threshold\n",
        "\n",
        "  def activate(self, inputs):\n",
        "    inputs = np.array(inputs)\n",
        "    weighted_sum = np.dot(self.weights, inputs)\n",
        "    return 1 if weighted_sum >= self.threshold else 0\n",
        "\n",
        "weights = [1, 1]\n",
        "threshold = 1\n",
        "\n",
        "neuron = McCullochPittsNeuron(weights, threshold)\n",
        "\n",
        "inputs_list = ([0, 0], [0, 1], [1, 0], [1, 1])\n",
        "\n",
        "for inputs in inputs_list:\n",
        "  output = neuron.activate(inputs)\n",
        "  print(f'Entradas: {inputs} Salida: {output}')"
      ]
    }
  ]
}