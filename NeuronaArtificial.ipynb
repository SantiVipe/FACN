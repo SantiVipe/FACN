{
  "nbformat": 4,
  "nbformat_minor": 0,
  "metadata": {
    "colab": {
      "provenance": [],
      "toc_visible": true,
      "authorship_tag": "ABX9TyOFFtfKg2kO8i4sJtK0bzo8",
      "include_colab_link": true
    },
    "kernelspec": {
      "name": "python3",
      "display_name": "Python 3"
    },
    "language_info": {
      "name": "python"
    }
  },
  "cells": [
    {
      "cell_type": "markdown",
      "metadata": {
        "id": "view-in-github",
        "colab_type": "text"
      },
      "source": [
        "<a href=\"https://colab.research.google.com/github/SantiVipe/FACN/blob/main/NeuronaArtificial.ipynb\" target=\"_parent\"><img src=\"https://colab.research.google.com/assets/colab-badge.svg\" alt=\"Open In Colab\"/></a>"
      ]
    },
    {
      "cell_type": "code",
      "execution_count": 1,
      "metadata": {
        "colab": {
          "base_uri": "https://localhost:8080/"
        },
        "id": "yvgO-af0OmQ7",
        "outputId": "b2c5b3cc-7e47-4968-d023-fe870dc66b7f"
      },
      "outputs": [
        {
          "output_type": "stream",
          "name": "stdout",
          "text": [
            "Por favor ingrese una compuerta lógica (AND, OR, NAND, NOR, NOT): AND\n",
            "Entradas: (0, 0) Salida: 0\n",
            "Entradas: (0, 1) Salida: 0\n",
            "Entradas: (1, 0) Salida: 0\n",
            "Entradas: (1, 1) Salida: 1\n"
          ]
        }
      ],
      "source": [
        "import numpy as np\n",
        "\n",
        "class McCullochPittsNeuron:\n",
        "    def __init__(self, weights, threshold):\n",
        "        self.weights = np.array(weights)\n",
        "        self.threshold = threshold\n",
        "\n",
        "    def activate(self, inputs):\n",
        "        inputs = np.array(inputs)\n",
        "        weighted_sum = np.dot(self.weights, inputs)\n",
        "        return 1 if weighted_sum >= self.threshold else 0\n",
        "\n",
        "# Inicialización correcta de los pesos y el umbral\n",
        "def tipo_compuerta(compuerta):\n",
        "    if compuerta == 'AND':\n",
        "        weights = [1, 1]\n",
        "        threshold = 2\n",
        "    elif compuerta == 'OR':\n",
        "        weights = [1, 1]\n",
        "        threshold = 1\n",
        "    elif compuerta == 'NAND':\n",
        "        weights = [-1, -1]\n",
        "        threshold = -1\n",
        "    elif compuerta == 'NOR':\n",
        "        weights = [-1, -1]\n",
        "        threshold = 0\n",
        "    elif compuerta == 'NOT':\n",
        "        weights = [-1]\n",
        "        threshold = 0\n",
        "    else:\n",
        "        print('Compuerta no válida')\n",
        "        return None\n",
        "    return McCullochPittsNeuron(weights, threshold)\n",
        "\n",
        "# Solicitar la compuerta lógica\n",
        "compuerta = input('Por favor ingrese una compuerta lógica (AND, OR, NAND, NOR, NOT): ')\n",
        "neuron = tipo_compuerta(compuerta)\n",
        "\n",
        "# Verificar si la compuerta es válida\n",
        "if neuron:\n",
        "    # Lista de entradas (nota que 'NOT' solo necesita una entrada)\n",
        "    if compuerta == 'NOT':\n",
        "        inputs_list = [(0,), (1,)]  # Solo una entrada\n",
        "    else:\n",
        "        inputs_list = [(0, 0), (0, 1), (1, 0), (1, 1)]\n",
        "\n",
        "    # Calcular y mostrar las salidas\n",
        "    for inputs in inputs_list:\n",
        "        output = neuron.activate(inputs)\n",
        "        print(f'Entradas: {inputs} Salida: {output}')"
      ]
    }
  ]
}